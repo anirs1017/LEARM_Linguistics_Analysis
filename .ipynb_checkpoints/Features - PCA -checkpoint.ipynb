{
 "cells": [
  {
   "cell_type": "code",
   "execution_count": 2,
   "metadata": {},
   "outputs": [],
   "source": [
    "import numpy as np\n",
    "import pandas as pd\n",
    "import matplotlib.pyplot as plt\n",
    "import nltk\n",
    "from nltk.corpus import stopwords\n",
    "from nltk.stem import PorterStemmer\n",
    "import re"
   ]
  },
  {
   "cell_type": "code",
   "execution_count": 3,
   "metadata": {},
   "outputs": [],
   "source": [
    "data = pd.read_excel(\"EFTSTUDY16.xlsx\", sheet_name='Sheet1')"
   ]
  },
  {
   "cell_type": "code",
   "execution_count": 4,
   "metadata": {},
   "outputs": [],
   "source": [
    "IP_values = pd.DataFrame(data['IP value'])\n",
    "IP_time = pd.DataFrame(data['IP'])\n",
    "delay = pd.DataFrame(data['DELAY'])\n",
    "all_cues = pd.DataFrame(data['cue_spellcheck'])\n",
    "category = pd.DataFrame(data['EFT/ERT'])"
   ]
  },
  {
   "cell_type": "code",
   "execution_count": 5,
   "metadata": {},
   "outputs": [
    {
     "data": {
      "text/plain": [
       "180"
      ]
     },
     "execution_count": 5,
     "metadata": {},
     "output_type": "execute_result"
    }
   ],
   "source": [
    "delay['DELAY'][1]"
   ]
  },
  {
   "cell_type": "code",
   "execution_count": 6,
   "metadata": {},
   "outputs": [],
   "source": [
    "def split_cues():\n",
    "    eft = []\n",
    "    ert = []\n",
    "    \n",
    "    for i in category.index:\n",
    "        if category['EFT/ERT'][i] == \"EFT\":\n",
    "            eft.append([all_cues['cue_spellcheck'][i], IP_values['IP value'][i]])\n",
    "        else:\n",
    "            ert.append([all_cues['cue_spellcheck'][i], IP_values['IP value'][i]])\n",
    "    \n",
    "    ind_eft_data = []\n",
    "    ind_ert_data = []\n",
    "#     IP_eft_values = []\n",
    "#     IP_ert_values = []\n",
    "    i = 0\n",
    "    while(i != len(eft)):\n",
    "        temp_eft = []\n",
    "        temp_ert = []\n",
    "        temp_eft_IP = 0\n",
    "        temp_ert_IP = 0\n",
    "        for j in range(3):\n",
    "            temp_eft.append( eft[i+j][0] )\n",
    "            temp_eft_IP += eft[i+j][1]\n",
    "            temp_ert.append( ert[i+j][0] )\n",
    "            temp_ert_IP += ert[i+j][1]\n",
    "        \n",
    "        ind_eft_data.append( [ temp_eft[0], temp_eft_IP/3 ] )\n",
    "        ind_ert_data.append( [ temp_ert[0], temp_ert_IP/3 ] )\n",
    "        i += 3\n",
    "#             IP_eft_values.append(eft_data[i+j][1])\n",
    "#             IP_ert_values.append(ert_data[i+j][1])\n",
    "    \n",
    "    return ind_eft_data, ind_ert_data"
   ]
  },
  {
   "cell_type": "code",
   "execution_count": 7,
   "metadata": {},
   "outputs": [],
   "source": [
    "def collect_cues():\n",
    "    eft_data = {}\n",
    "    ert_data = {}\n",
    "    \n",
    "    delay_periods = [30, 180, 365]\n",
    "    for period in delay_periods:\n",
    "        eft_data[period] = []\n",
    "        ert_data[period] = []\n",
    "    \n",
    "    for i in category.index:\n",
    "        current_delay = delay['DELAY'][i]\n",
    "        current_cue = all_cues['cue_spellcheck'][i]\n",
    "        current_IP = IP_values['IP value'][i]\n",
    "        \n",
    "        if category['EFT/ERT'][i] == \"EFT\":\n",
    "            eft_data[current_delay].append([current_cue, current_IP])\n",
    "        else:\n",
    "            ert_data[current_delay].append([current_cue, current_IP])\n",
    "        \n",
    "    return eft_data, ert_data"
   ]
  },
  {
   "cell_type": "code",
   "execution_count": 8,
   "metadata": {},
   "outputs": [],
   "source": [
    "def clean_text(cue_data):\n",
    "    corpus = []\n",
    "    y = []\n",
    "    for i in range(len(cue_data)):\n",
    "        cue = re.sub('[^a-zA-Z]', ' ', cue_data[i][0])\n",
    "        cue = cue.lower().split()\n",
    "        ps = PorterStemmer()\n",
    "        cue = [ps.stem(word) for word in cue if not word in set(stopwords.words('english'))]\n",
    "        cue = ' '.join(cue)\n",
    "        corpus.append(cue)\n",
    "        \n",
    "        y.append(cue_data[i][1])\n",
    "    \n",
    "    return corpus, np.array(y, dtype=np.int32).reshape(len(y), 1)"
   ]
  },
  {
   "cell_type": "code",
   "execution_count": 9,
   "metadata": {},
   "outputs": [],
   "source": [
    "eft_data, ert_data = collect_cues()"
   ]
  },
  {
   "cell_type": "markdown",
   "metadata": {},
   "source": [
    "## Entity recognition"
   ]
  },
  {
   "cell_type": "code",
   "execution_count": 48,
   "metadata": {},
   "outputs": [],
   "source": [
    "def findEntities(cues):\n",
    "    score = []\n",
    "    POS_list = []\n",
    "    valid_pos = ['NNP', 'NNS', 'PRP', 'NN', 'NNS', 'PDT']\n",
    "    verb_list = ['VB', 'VBG', 'VBP', 'VBZ']\n",
    "    for cue in cues:\n",
    "        token = nltk.word_tokenize(cue)\n",
    "        POS_components = nltk.pos_tag(token)\n",
    "        count = 0\n",
    "        temp = []\n",
    "        for pos in POS_components:\n",
    "            if pos[1] in valid_pos:\n",
    "                count+=1\n",
    "                temp.append(pos)\n",
    "        if count >= 5:\n",
    "            score.append([1, 'Good'])\n",
    "        else:\n",
    "            score.append([0, 'Bad'])\n",
    "        POS_list.append(temp)\n",
    "    \n",
    "    return score, POS_list"
   ]
  },
  {
   "cell_type": "code",
   "execution_count": 49,
   "metadata": {},
   "outputs": [],
   "source": [
    "def EntityRecognition():\n",
    "    eft_cues = []\n",
    "    ert_cues = []\n",
    "    for i in category.index:\n",
    "        current_cue = all_cues['cue_spellcheck'][i]\n",
    "        if category['EFT/ERT'][i] == \"EFT\":\n",
    "            eft_cues.append(current_cue)\n",
    "        else:\n",
    "            ert_cues.append(current_cue)\n",
    "        \n",
    "    \n",
    "    eft_cue_score, pos_eft = findEntities(eft_cues)\n",
    "    ert_cue_score, pos_ert = findEntities(ert_cues)\n",
    "    \n",
    "    return pd.DataFrame(eft_cue_score, columns = ['Score', 'Type']), pd.DataFrame(ert_cue_score, columns = ['Score', 'Type']), pos_eft, pos_ert"
   ]
  },
  {
   "cell_type": "code",
   "execution_count": 50,
   "metadata": {},
   "outputs": [],
   "source": [
    "eft_scores, ert_scores, pos_eft, pos_ert = EntityRecognition()\n",
    "eft_scores.index.name = 'Cue #'\n",
    "ert_scores.index.name = 'Cue #'"
   ]
  },
  {
   "cell_type": "code",
   "execution_count": 39,
   "metadata": {
    "scrolled": true
   },
   "outputs": [
    {
     "data": {
      "text/html": [
       "<div>\n",
       "<style scoped>\n",
       "    .dataframe tbody tr th:only-of-type {\n",
       "        vertical-align: middle;\n",
       "    }\n",
       "\n",
       "    .dataframe tbody tr th {\n",
       "        vertical-align: top;\n",
       "    }\n",
       "\n",
       "    .dataframe thead th {\n",
       "        text-align: right;\n",
       "    }\n",
       "</style>\n",
       "<table border=\"1\" class=\"dataframe\">\n",
       "  <thead>\n",
       "    <tr style=\"text-align: right;\">\n",
       "      <th></th>\n",
       "      <th>Score</th>\n",
       "      <th>Type</th>\n",
       "    </tr>\n",
       "    <tr>\n",
       "      <th>Cue #</th>\n",
       "      <th></th>\n",
       "      <th></th>\n",
       "    </tr>\n",
       "  </thead>\n",
       "  <tbody>\n",
       "    <tr>\n",
       "      <td>0</td>\n",
       "      <td>1</td>\n",
       "      <td>Good</td>\n",
       "    </tr>\n",
       "    <tr>\n",
       "      <td>1</td>\n",
       "      <td>1</td>\n",
       "      <td>Good</td>\n",
       "    </tr>\n",
       "    <tr>\n",
       "      <td>2</td>\n",
       "      <td>1</td>\n",
       "      <td>Good</td>\n",
       "    </tr>\n",
       "    <tr>\n",
       "      <td>3</td>\n",
       "      <td>1</td>\n",
       "      <td>Good</td>\n",
       "    </tr>\n",
       "    <tr>\n",
       "      <td>4</td>\n",
       "      <td>1</td>\n",
       "      <td>Good</td>\n",
       "    </tr>\n",
       "    <tr>\n",
       "      <td>...</td>\n",
       "      <td>...</td>\n",
       "      <td>...</td>\n",
       "    </tr>\n",
       "    <tr>\n",
       "      <td>223</td>\n",
       "      <td>1</td>\n",
       "      <td>Good</td>\n",
       "    </tr>\n",
       "    <tr>\n",
       "      <td>224</td>\n",
       "      <td>1</td>\n",
       "      <td>Good</td>\n",
       "    </tr>\n",
       "    <tr>\n",
       "      <td>225</td>\n",
       "      <td>1</td>\n",
       "      <td>Good</td>\n",
       "    </tr>\n",
       "    <tr>\n",
       "      <td>226</td>\n",
       "      <td>1</td>\n",
       "      <td>Good</td>\n",
       "    </tr>\n",
       "    <tr>\n",
       "      <td>227</td>\n",
       "      <td>1</td>\n",
       "      <td>Good</td>\n",
       "    </tr>\n",
       "  </tbody>\n",
       "</table>\n",
       "<p>228 rows × 2 columns</p>\n",
       "</div>"
      ],
      "text/plain": [
       "       Score  Type\n",
       "Cue #             \n",
       "0          1  Good\n",
       "1          1  Good\n",
       "2          1  Good\n",
       "3          1  Good\n",
       "4          1  Good\n",
       "...      ...   ...\n",
       "223        1  Good\n",
       "224        1  Good\n",
       "225        1  Good\n",
       "226        1  Good\n",
       "227        1  Good\n",
       "\n",
       "[228 rows x 2 columns]"
      ]
     },
     "execution_count": 39,
     "metadata": {},
     "output_type": "execute_result"
    }
   ],
   "source": [
    "eft_scores"
   ]
  },
  {
   "cell_type": "code",
   "execution_count": 52,
   "metadata": {},
   "outputs": [
    {
     "data": {
      "text/plain": [
       "[('weeks', 'NNS'),\n",
       " ('I', 'PRP'),\n",
       " ('husband', 'NN'),\n",
       " ('state', 'NN'),\n",
       " ('prison', 'NN'),\n",
       " ('I', 'PRP'),\n",
       " ('him', 'PRP'),\n",
       " ('phone', 'NN'),\n",
       " ('I', 'PRP'),\n",
       " ('him', 'PRP'),\n",
       " ('year', 'NN'),\n",
       " ('I', 'PRP'),\n",
       " ('tax', 'NN'),\n",
       " ('check', 'NN'),\n",
       " ('I', 'PRP'),\n",
       " ('him', 'PRP'),\n",
       " ('son', 'NN'),\n",
       " ('I', 'PRP'),\n",
       " ('him', 'PRP'),\n",
       " ('we', 'PRP'),\n",
       " ('ones', 'NNS'),\n",
       " ('We', 'PRP'),\n",
       " ('hours', 'NNS'),\n",
       " ('him', 'PRP'),\n",
       " ('hours', 'NNS')]"
      ]
     },
     "execution_count": 52,
     "metadata": {},
     "output_type": "execute_result"
    }
   ],
   "source": [
    "pos_eft[0]"
   ]
  },
  {
   "cell_type": "code",
   "execution_count": 40,
   "metadata": {
    "scrolled": true
   },
   "outputs": [
    {
     "data": {
      "text/html": [
       "<div>\n",
       "<style scoped>\n",
       "    .dataframe tbody tr th:only-of-type {\n",
       "        vertical-align: middle;\n",
       "    }\n",
       "\n",
       "    .dataframe tbody tr th {\n",
       "        vertical-align: top;\n",
       "    }\n",
       "\n",
       "    .dataframe thead th {\n",
       "        text-align: right;\n",
       "    }\n",
       "</style>\n",
       "<table border=\"1\" class=\"dataframe\">\n",
       "  <thead>\n",
       "    <tr style=\"text-align: right;\">\n",
       "      <th></th>\n",
       "      <th>Score</th>\n",
       "      <th>Type</th>\n",
       "    </tr>\n",
       "    <tr>\n",
       "      <th>Cue #</th>\n",
       "      <th></th>\n",
       "      <th></th>\n",
       "    </tr>\n",
       "  </thead>\n",
       "  <tbody>\n",
       "    <tr>\n",
       "      <td>0</td>\n",
       "      <td>1</td>\n",
       "      <td>Good</td>\n",
       "    </tr>\n",
       "    <tr>\n",
       "      <td>1</td>\n",
       "      <td>1</td>\n",
       "      <td>Good</td>\n",
       "    </tr>\n",
       "    <tr>\n",
       "      <td>2</td>\n",
       "      <td>1</td>\n",
       "      <td>Good</td>\n",
       "    </tr>\n",
       "    <tr>\n",
       "      <td>3</td>\n",
       "      <td>1</td>\n",
       "      <td>Good</td>\n",
       "    </tr>\n",
       "    <tr>\n",
       "      <td>4</td>\n",
       "      <td>1</td>\n",
       "      <td>Good</td>\n",
       "    </tr>\n",
       "    <tr>\n",
       "      <td>...</td>\n",
       "      <td>...</td>\n",
       "      <td>...</td>\n",
       "    </tr>\n",
       "    <tr>\n",
       "      <td>223</td>\n",
       "      <td>1</td>\n",
       "      <td>Good</td>\n",
       "    </tr>\n",
       "    <tr>\n",
       "      <td>224</td>\n",
       "      <td>1</td>\n",
       "      <td>Good</td>\n",
       "    </tr>\n",
       "    <tr>\n",
       "      <td>225</td>\n",
       "      <td>1</td>\n",
       "      <td>Good</td>\n",
       "    </tr>\n",
       "    <tr>\n",
       "      <td>226</td>\n",
       "      <td>1</td>\n",
       "      <td>Good</td>\n",
       "    </tr>\n",
       "    <tr>\n",
       "      <td>227</td>\n",
       "      <td>1</td>\n",
       "      <td>Good</td>\n",
       "    </tr>\n",
       "  </tbody>\n",
       "</table>\n",
       "<p>228 rows × 2 columns</p>\n",
       "</div>"
      ],
      "text/plain": [
       "       Score  Type\n",
       "Cue #             \n",
       "0          1  Good\n",
       "1          1  Good\n",
       "2          1  Good\n",
       "3          1  Good\n",
       "4          1  Good\n",
       "...      ...   ...\n",
       "223        1  Good\n",
       "224        1  Good\n",
       "225        1  Good\n",
       "226        1  Good\n",
       "227        1  Good\n",
       "\n",
       "[228 rows x 2 columns]"
      ]
     },
     "execution_count": 40,
     "metadata": {},
     "output_type": "execute_result"
    }
   ],
   "source": [
    "ert_scores"
   ]
  },
  {
   "cell_type": "code",
   "execution_count": 53,
   "metadata": {},
   "outputs": [
    {
     "data": {
      "text/plain": [
       "[('hours', 'NNS'),\n",
       " ('I', 'PRP'),\n",
       " ('month', 'NN'),\n",
       " ('ready', 'NN'),\n",
       " ('bed', 'NN'),\n",
       " ('I', 'PRP'),\n",
       " ('him', 'PRP'),\n",
       " ('bath', 'NN'),\n",
       " ('him', 'PRP'),\n",
       " ('stories', 'NNS'),\n",
       " ('him', 'PRP'),\n",
       " ('night', 'NN'),\n",
       " ('I', 'PRP'),\n",
       " ('he', 'PRP'),\n",
       " ('me', 'PRP'),\n",
       " ('night', 'NN'),\n",
       " ('room', 'NN')]"
      ]
     },
     "execution_count": 53,
     "metadata": {},
     "output_type": "execute_result"
    }
   ],
   "source": [
    "pos_ert[0]"
   ]
  },
  {
   "cell_type": "markdown",
   "metadata": {},
   "source": []
  },
  {
   "cell_type": "markdown",
   "metadata": {},
   "source": []
  },
  {
   "cell_type": "markdown",
   "metadata": {},
   "source": []
  },
  {
   "cell_type": "code",
   "execution_count": 37,
   "metadata": {},
   "outputs": [
    {
     "data": {
      "text/plain": [
       "'In 7 months I AM AT THE INN OF THE MOUNTAIN GOS IN RUIDOSO NM WITH SHARON.WE WILL BE GAMBLING, DRINKING, LAUGHING, AND HAVING THE TIME OF OUR LIVES.'"
      ]
     },
     "execution_count": 37,
     "metadata": {},
     "output_type": "execute_result"
    }
   ],
   "source": [
    "eft_data[30][1][0]"
   ]
  },
  {
   "cell_type": "code",
   "execution_count": 38,
   "metadata": {},
   "outputs": [],
   "source": [
    "corpus_30_eft, y_30_eft = clean_text(eft_data[30])\n",
    "corpus_180_eft, y_180_eft = clean_text(eft_data[180])\n",
    "corpus_365_eft, y_365_eft = clean_text(eft_data[365])\n",
    "\n",
    "corpus_30_ert, y_30_ert = clean_text(ert_data[30])\n",
    "corpus_180_ert, y_180_ert = clean_text(ert_data[180])\n",
    "corpus_365_ert, y_365_ert = clean_text(ert_data[365])"
   ]
  },
  {
   "cell_type": "markdown",
   "metadata": {},
   "source": [
    "#### Vectorize the corpus"
   ]
  },
  {
   "cell_type": "code",
   "execution_count": 39,
   "metadata": {},
   "outputs": [],
   "source": [
    "from sklearn.feature_extraction.text import CountVectorizer\n",
    "\n",
    "def vectorize(corpus):\n",
    "    cv = CountVectorizer()\n",
    "    cv.fit(corpus)\n",
    "    vocab = cv.vocabulary_\n",
    "#     print(vocab)\n",
    "    X = cv.fit_transform(corpus).toarray()\n",
    "    \n",
    "    return vocab, X"
   ]
  },
  {
   "cell_type": "code",
   "execution_count": 40,
   "metadata": {},
   "outputs": [],
   "source": [
    "# from sklearn.feature_extraction.text import CountVectorizer\n",
    "# cv = CountVectorizer()\n",
    "# cv.fit(corpus_30_eft)\n",
    "# vocab = cv.vocabulary_\n",
    "# print(vocab)\n",
    "# X_30_eft = cv.fit_transform(corpus_30_eft).toarray()"
   ]
  },
  {
   "cell_type": "code",
   "execution_count": 41,
   "metadata": {},
   "outputs": [],
   "source": [
    "# X_30_eft"
   ]
  },
  {
   "cell_type": "code",
   "execution_count": 42,
   "metadata": {},
   "outputs": [],
   "source": [
    "# len(X_30_eft[0])"
   ]
  },
  {
   "cell_type": "markdown",
   "metadata": {},
   "source": [
    "### Perform Principal Component Analysis"
   ]
  },
  {
   "cell_type": "code",
   "execution_count": 43,
   "metadata": {},
   "outputs": [],
   "source": [
    "from sklearn.decomposition import PCA\n",
    "n_comp = 10\n",
    "\n",
    "def find_PCA(X, vocab):\n",
    "    pca = PCA(n_components = n_comp)\n",
    "    X = pca.fit_transform(X)\n",
    "    explained_variance = pca.explained_variance_ratio_\n",
    "    var = explained_variance\n",
    "    \n",
    "    # Create dataframe and calculate maximum values\n",
    "    columns = []\n",
    "    for i in range(n_comp):\n",
    "        columns.append('PC-'+str(i+1))\n",
    "    df = pd.DataFrame(pca.components_)\n",
    "    new_df = pd.DataFrame.transpose(df) \n",
    "    new_df.columns = columns\n",
    "#     new_df\n",
    "    indices = new_df.idxmax(axis=0)\n",
    "    \n",
    "    important_words = influential_words(indices, vocab)\n",
    "    \n",
    "    return X, var, important_words"
   ]
  },
  {
   "cell_type": "markdown",
   "metadata": {},
   "source": [
    "### Create a dictionary of most influential words"
   ]
  },
  {
   "cell_type": "code",
   "execution_count": 44,
   "metadata": {},
   "outputs": [],
   "source": [
    "def influential_words(indices, vocab):\n",
    "    words = {}\n",
    "    for index in indices:\n",
    "        for key, value in vocab.items():\n",
    "            if value == index:\n",
    "                words[index] = key\n",
    "    \n",
    "    return words"
   ]
  },
  {
   "cell_type": "code",
   "execution_count": 45,
   "metadata": {},
   "outputs": [],
   "source": [
    "def find_importance(corpus):\n",
    "    vocab, X = vectorize(corpus)\n",
    "    X, variance, important_words = find_PCA(X, vocab)\n",
    "    \n",
    "    results = []\n",
    "    i = 0\n",
    "    for key, value in important_words.items():\n",
    "        results.append((value, round(variance[i], 3)))\n",
    "        i+=1\n",
    "#     results.append(variance)\n",
    "#     results.append(important_words)\n",
    "    \n",
    "    return pd.DataFrame(results, columns = ['Word', 'Variance'])"
   ]
  },
  {
   "cell_type": "code",
   "execution_count": 46,
   "metadata": {},
   "outputs": [],
   "source": [
    "eft_30_result = find_importance(corpus_30_eft)\n",
    "eft_180_result = find_importance(corpus_180_eft)\n",
    "eft_365_result = find_importance(corpus_365_eft)\n",
    "\n",
    "ert_30_result = find_importance(corpus_30_ert)\n",
    "ert_180_result = find_importance(corpus_180_ert)\n",
    "ert_365_result = find_importance(corpus_365_ert)"
   ]
  },
  {
   "cell_type": "code",
   "execution_count": 47,
   "metadata": {
    "scrolled": true
   },
   "outputs": [
    {
     "data": {
      "text/html": [
       "<div>\n",
       "<style scoped>\n",
       "    .dataframe tbody tr th:only-of-type {\n",
       "        vertical-align: middle;\n",
       "    }\n",
       "\n",
       "    .dataframe tbody tr th {\n",
       "        vertical-align: top;\n",
       "    }\n",
       "\n",
       "    .dataframe thead th {\n",
       "        text-align: right;\n",
       "    }\n",
       "</style>\n",
       "<table border=\"1\" class=\"dataframe\">\n",
       "  <thead>\n",
       "    <tr style=\"text-align: right;\">\n",
       "      <th></th>\n",
       "      <th>Word</th>\n",
       "      <th>Variance</th>\n",
       "    </tr>\n",
       "  </thead>\n",
       "  <tbody>\n",
       "    <tr>\n",
       "      <td>0</td>\n",
       "      <td>time</td>\n",
       "      <td>0.057</td>\n",
       "    </tr>\n",
       "    <tr>\n",
       "      <td>1</td>\n",
       "      <td>front</td>\n",
       "      <td>0.044</td>\n",
       "    </tr>\n",
       "    <tr>\n",
       "      <td>2</td>\n",
       "      <td>budget</td>\n",
       "      <td>0.037</td>\n",
       "    </tr>\n",
       "    <tr>\n",
       "      <td>3</td>\n",
       "      <td>enjoy</td>\n",
       "      <td>0.036</td>\n",
       "    </tr>\n",
       "    <tr>\n",
       "      <td>4</td>\n",
       "      <td>see</td>\n",
       "      <td>0.035</td>\n",
       "    </tr>\n",
       "    <tr>\n",
       "      <td>5</td>\n",
       "      <td>lego</td>\n",
       "      <td>0.030</td>\n",
       "    </tr>\n",
       "    <tr>\n",
       "      <td>6</td>\n",
       "      <td>work</td>\n",
       "      <td>0.029</td>\n",
       "    </tr>\n",
       "    <tr>\n",
       "      <td>7</td>\n",
       "      <td>place</td>\n",
       "      <td>0.028</td>\n",
       "    </tr>\n",
       "    <tr>\n",
       "      <td>8</td>\n",
       "      <td>feel</td>\n",
       "      <td>0.027</td>\n",
       "    </tr>\n",
       "    <tr>\n",
       "      <td>9</td>\n",
       "      <td>movi</td>\n",
       "      <td>0.026</td>\n",
       "    </tr>\n",
       "  </tbody>\n",
       "</table>\n",
       "</div>"
      ],
      "text/plain": [
       "     Word  Variance\n",
       "0    time     0.057\n",
       "1   front     0.044\n",
       "2  budget     0.037\n",
       "3   enjoy     0.036\n",
       "4     see     0.035\n",
       "5    lego     0.030\n",
       "6    work     0.029\n",
       "7   place     0.028\n",
       "8    feel     0.027\n",
       "9    movi     0.026"
      ]
     },
     "execution_count": 47,
     "metadata": {},
     "output_type": "execute_result"
    }
   ],
   "source": [
    "eft_30_result"
   ]
  },
  {
   "cell_type": "code",
   "execution_count": 48,
   "metadata": {},
   "outputs": [
    {
     "data": {
      "text/html": [
       "<div>\n",
       "<style scoped>\n",
       "    .dataframe tbody tr th:only-of-type {\n",
       "        vertical-align: middle;\n",
       "    }\n",
       "\n",
       "    .dataframe tbody tr th {\n",
       "        vertical-align: top;\n",
       "    }\n",
       "\n",
       "    .dataframe thead th {\n",
       "        text-align: right;\n",
       "    }\n",
       "</style>\n",
       "<table border=\"1\" class=\"dataframe\">\n",
       "  <thead>\n",
       "    <tr style=\"text-align: right;\">\n",
       "      <th></th>\n",
       "      <th>Word</th>\n",
       "      <th>Variance</th>\n",
       "    </tr>\n",
       "  </thead>\n",
       "  <tbody>\n",
       "    <tr>\n",
       "      <td>0</td>\n",
       "      <td>day</td>\n",
       "      <td>0.047</td>\n",
       "    </tr>\n",
       "    <tr>\n",
       "      <td>1</td>\n",
       "      <td>watch</td>\n",
       "      <td>0.041</td>\n",
       "    </tr>\n",
       "    <tr>\n",
       "      <td>2</td>\n",
       "      <td>year</td>\n",
       "      <td>0.037</td>\n",
       "    </tr>\n",
       "    <tr>\n",
       "      <td>3</td>\n",
       "      <td>look</td>\n",
       "      <td>0.036</td>\n",
       "    </tr>\n",
       "    <tr>\n",
       "      <td>4</td>\n",
       "      <td>see</td>\n",
       "      <td>0.033</td>\n",
       "    </tr>\n",
       "    <tr>\n",
       "      <td>5</td>\n",
       "      <td>enjoy</td>\n",
       "      <td>0.030</td>\n",
       "    </tr>\n",
       "    <tr>\n",
       "      <td>6</td>\n",
       "      <td>birthday</td>\n",
       "      <td>0.029</td>\n",
       "    </tr>\n",
       "    <tr>\n",
       "      <td>7</td>\n",
       "      <td>machin</td>\n",
       "      <td>0.026</td>\n",
       "    </tr>\n",
       "    <tr>\n",
       "      <td>8</td>\n",
       "      <td>time</td>\n",
       "      <td>0.025</td>\n",
       "    </tr>\n",
       "  </tbody>\n",
       "</table>\n",
       "</div>"
      ],
      "text/plain": [
       "       Word  Variance\n",
       "0       day     0.047\n",
       "1     watch     0.041\n",
       "2      year     0.037\n",
       "3      look     0.036\n",
       "4       see     0.033\n",
       "5     enjoy     0.030\n",
       "6  birthday     0.029\n",
       "7    machin     0.026\n",
       "8      time     0.025"
      ]
     },
     "execution_count": 48,
     "metadata": {},
     "output_type": "execute_result"
    }
   ],
   "source": [
    "eft_180_result"
   ]
  },
  {
   "cell_type": "code",
   "execution_count": 49,
   "metadata": {},
   "outputs": [
    {
     "data": {
      "text/html": [
       "<div>\n",
       "<style scoped>\n",
       "    .dataframe tbody tr th:only-of-type {\n",
       "        vertical-align: middle;\n",
       "    }\n",
       "\n",
       "    .dataframe tbody tr th {\n",
       "        vertical-align: top;\n",
       "    }\n",
       "\n",
       "    .dataframe thead th {\n",
       "        text-align: right;\n",
       "    }\n",
       "</style>\n",
       "<table border=\"1\" class=\"dataframe\">\n",
       "  <thead>\n",
       "    <tr style=\"text-align: right;\">\n",
       "      <th></th>\n",
       "      <th>Word</th>\n",
       "      <th>Variance</th>\n",
       "    </tr>\n",
       "  </thead>\n",
       "  <tbody>\n",
       "    <tr>\n",
       "      <td>0</td>\n",
       "      <td>day</td>\n",
       "      <td>0.051</td>\n",
       "    </tr>\n",
       "    <tr>\n",
       "      <td>1</td>\n",
       "      <td>feel</td>\n",
       "      <td>0.048</td>\n",
       "    </tr>\n",
       "    <tr>\n",
       "      <td>2</td>\n",
       "      <td>excit</td>\n",
       "      <td>0.038</td>\n",
       "    </tr>\n",
       "    <tr>\n",
       "      <td>3</td>\n",
       "      <td>get</td>\n",
       "      <td>0.036</td>\n",
       "    </tr>\n",
       "    <tr>\n",
       "      <td>4</td>\n",
       "      <td>happi</td>\n",
       "      <td>0.035</td>\n",
       "    </tr>\n",
       "    <tr>\n",
       "      <td>5</td>\n",
       "      <td>new</td>\n",
       "      <td>0.031</td>\n",
       "    </tr>\n",
       "    <tr>\n",
       "      <td>6</td>\n",
       "      <td>ride</td>\n",
       "      <td>0.029</td>\n",
       "    </tr>\n",
       "    <tr>\n",
       "      <td>7</td>\n",
       "      <td>beach</td>\n",
       "      <td>0.028</td>\n",
       "    </tr>\n",
       "    <tr>\n",
       "      <td>8</td>\n",
       "      <td>time</td>\n",
       "      <td>0.026</td>\n",
       "    </tr>\n",
       "  </tbody>\n",
       "</table>\n",
       "</div>"
      ],
      "text/plain": [
       "    Word  Variance\n",
       "0    day     0.051\n",
       "1   feel     0.048\n",
       "2  excit     0.038\n",
       "3    get     0.036\n",
       "4  happi     0.035\n",
       "5    new     0.031\n",
       "6   ride     0.029\n",
       "7  beach     0.028\n",
       "8   time     0.026"
      ]
     },
     "execution_count": 49,
     "metadata": {},
     "output_type": "execute_result"
    }
   ],
   "source": [
    "eft_365_result"
   ]
  },
  {
   "cell_type": "code",
   "execution_count": 50,
   "metadata": {},
   "outputs": [
    {
     "data": {
      "text/html": [
       "<div>\n",
       "<style scoped>\n",
       "    .dataframe tbody tr th:only-of-type {\n",
       "        vertical-align: middle;\n",
       "    }\n",
       "\n",
       "    .dataframe tbody tr th {\n",
       "        vertical-align: top;\n",
       "    }\n",
       "\n",
       "    .dataframe thead th {\n",
       "        text-align: right;\n",
       "    }\n",
       "</style>\n",
       "<table border=\"1\" class=\"dataframe\">\n",
       "  <thead>\n",
       "    <tr style=\"text-align: right;\">\n",
       "      <th></th>\n",
       "      <th>Word</th>\n",
       "      <th>Variance</th>\n",
       "    </tr>\n",
       "  </thead>\n",
       "  <tbody>\n",
       "    <tr>\n",
       "      <td>0</td>\n",
       "      <td>watch</td>\n",
       "      <td>0.062</td>\n",
       "    </tr>\n",
       "    <tr>\n",
       "      <td>1</td>\n",
       "      <td>read</td>\n",
       "      <td>0.057</td>\n",
       "    </tr>\n",
       "    <tr>\n",
       "      <td>2</td>\n",
       "      <td>lobster</td>\n",
       "      <td>0.053</td>\n",
       "    </tr>\n",
       "    <tr>\n",
       "      <td>3</td>\n",
       "      <td>work</td>\n",
       "      <td>0.047</td>\n",
       "    </tr>\n",
       "    <tr>\n",
       "      <td>4</td>\n",
       "      <td>realli</td>\n",
       "      <td>0.036</td>\n",
       "    </tr>\n",
       "    <tr>\n",
       "      <td>5</td>\n",
       "      <td>friend</td>\n",
       "      <td>0.033</td>\n",
       "    </tr>\n",
       "    <tr>\n",
       "      <td>6</td>\n",
       "      <td>play</td>\n",
       "      <td>0.032</td>\n",
       "    </tr>\n",
       "    <tr>\n",
       "      <td>7</td>\n",
       "      <td>center</td>\n",
       "      <td>0.031</td>\n",
       "    </tr>\n",
       "  </tbody>\n",
       "</table>\n",
       "</div>"
      ],
      "text/plain": [
       "      Word  Variance\n",
       "0    watch     0.062\n",
       "1     read     0.057\n",
       "2  lobster     0.053\n",
       "3     work     0.047\n",
       "4   realli     0.036\n",
       "5   friend     0.033\n",
       "6     play     0.032\n",
       "7   center     0.031"
      ]
     },
     "execution_count": 50,
     "metadata": {},
     "output_type": "execute_result"
    }
   ],
   "source": [
    "ert_30_result"
   ]
  },
  {
   "cell_type": "code",
   "execution_count": 51,
   "metadata": {},
   "outputs": [
    {
     "data": {
      "text/html": [
       "<div>\n",
       "<style scoped>\n",
       "    .dataframe tbody tr th:only-of-type {\n",
       "        vertical-align: middle;\n",
       "    }\n",
       "\n",
       "    .dataframe tbody tr th {\n",
       "        vertical-align: top;\n",
       "    }\n",
       "\n",
       "    .dataframe thead th {\n",
       "        text-align: right;\n",
       "    }\n",
       "</style>\n",
       "<table border=\"1\" class=\"dataframe\">\n",
       "  <thead>\n",
       "    <tr style=\"text-align: right;\">\n",
       "      <th></th>\n",
       "      <th>Word</th>\n",
       "      <th>Variance</th>\n",
       "    </tr>\n",
       "  </thead>\n",
       "  <tbody>\n",
       "    <tr>\n",
       "      <td>0</td>\n",
       "      <td>chicken</td>\n",
       "      <td>0.055</td>\n",
       "    </tr>\n",
       "    <tr>\n",
       "      <td>1</td>\n",
       "      <td>husband</td>\n",
       "      <td>0.050</td>\n",
       "    </tr>\n",
       "    <tr>\n",
       "      <td>2</td>\n",
       "      <td>groceri</td>\n",
       "      <td>0.046</td>\n",
       "    </tr>\n",
       "    <tr>\n",
       "      <td>3</td>\n",
       "      <td>enjoy</td>\n",
       "      <td>0.040</td>\n",
       "    </tr>\n",
       "    <tr>\n",
       "      <td>4</td>\n",
       "      <td>dollar</td>\n",
       "      <td>0.038</td>\n",
       "    </tr>\n",
       "    <tr>\n",
       "      <td>5</td>\n",
       "      <td>play</td>\n",
       "      <td>0.036</td>\n",
       "    </tr>\n",
       "    <tr>\n",
       "      <td>6</td>\n",
       "      <td>game</td>\n",
       "      <td>0.034</td>\n",
       "    </tr>\n",
       "    <tr>\n",
       "      <td>7</td>\n",
       "      <td>candi</td>\n",
       "      <td>0.031</td>\n",
       "    </tr>\n",
       "    <tr>\n",
       "      <td>8</td>\n",
       "      <td>watch</td>\n",
       "      <td>0.030</td>\n",
       "    </tr>\n",
       "    <tr>\n",
       "      <td>9</td>\n",
       "      <td>peopl</td>\n",
       "      <td>0.029</td>\n",
       "    </tr>\n",
       "  </tbody>\n",
       "</table>\n",
       "</div>"
      ],
      "text/plain": [
       "      Word  Variance\n",
       "0  chicken     0.055\n",
       "1  husband     0.050\n",
       "2  groceri     0.046\n",
       "3    enjoy     0.040\n",
       "4   dollar     0.038\n",
       "5     play     0.036\n",
       "6     game     0.034\n",
       "7    candi     0.031\n",
       "8    watch     0.030\n",
       "9    peopl     0.029"
      ]
     },
     "execution_count": 51,
     "metadata": {},
     "output_type": "execute_result"
    }
   ],
   "source": [
    "ert_180_result"
   ]
  },
  {
   "cell_type": "code",
   "execution_count": 52,
   "metadata": {},
   "outputs": [
    {
     "data": {
      "text/html": [
       "<div>\n",
       "<style scoped>\n",
       "    .dataframe tbody tr th:only-of-type {\n",
       "        vertical-align: middle;\n",
       "    }\n",
       "\n",
       "    .dataframe tbody tr th {\n",
       "        vertical-align: top;\n",
       "    }\n",
       "\n",
       "    .dataframe thead th {\n",
       "        text-align: right;\n",
       "    }\n",
       "</style>\n",
       "<table border=\"1\" class=\"dataframe\">\n",
       "  <thead>\n",
       "    <tr style=\"text-align: right;\">\n",
       "      <th></th>\n",
       "      <th>Word</th>\n",
       "      <th>Variance</th>\n",
       "    </tr>\n",
       "  </thead>\n",
       "  <tbody>\n",
       "    <tr>\n",
       "      <td>0</td>\n",
       "      <td>play</td>\n",
       "      <td>0.061</td>\n",
       "    </tr>\n",
       "    <tr>\n",
       "      <td>1</td>\n",
       "      <td>drink</td>\n",
       "      <td>0.058</td>\n",
       "    </tr>\n",
       "    <tr>\n",
       "      <td>2</td>\n",
       "      <td>bowl</td>\n",
       "      <td>0.047</td>\n",
       "    </tr>\n",
       "    <tr>\n",
       "      <td>3</td>\n",
       "      <td>school</td>\n",
       "      <td>0.041</td>\n",
       "    </tr>\n",
       "    <tr>\n",
       "      <td>4</td>\n",
       "      <td>enjoy</td>\n",
       "      <td>0.037</td>\n",
       "    </tr>\n",
       "    <tr>\n",
       "      <td>5</td>\n",
       "      <td>abl</td>\n",
       "      <td>0.031</td>\n",
       "    </tr>\n",
       "    <tr>\n",
       "      <td>6</td>\n",
       "      <td>happi</td>\n",
       "      <td>0.029</td>\n",
       "    </tr>\n",
       "    <tr>\n",
       "      <td>7</td>\n",
       "      <td>time</td>\n",
       "      <td>0.028</td>\n",
       "    </tr>\n",
       "  </tbody>\n",
       "</table>\n",
       "</div>"
      ],
      "text/plain": [
       "     Word  Variance\n",
       "0    play     0.061\n",
       "1   drink     0.058\n",
       "2    bowl     0.047\n",
       "3  school     0.041\n",
       "4   enjoy     0.037\n",
       "5     abl     0.031\n",
       "6   happi     0.029\n",
       "7    time     0.028"
      ]
     },
     "execution_count": 52,
     "metadata": {},
     "output_type": "execute_result"
    }
   ],
   "source": [
    "ert_365_result"
   ]
  },
  {
   "cell_type": "code",
   "execution_count": 53,
   "metadata": {},
   "outputs": [],
   "source": [
    "# n_comp = 10\n",
    "# from sklearn.decomposition import PCA\n",
    "# pca = PCA(n_components = n_comp)\n",
    "# X_30_eft = pca.fit_transform(X_30_eft)\n",
    "# explained_variance = pca.explained_variance_ratio_\n",
    "# explained_variance\n",
    "# len(X_30_eft)"
   ]
  },
  {
   "cell_type": "code",
   "execution_count": 54,
   "metadata": {},
   "outputs": [],
   "source": [
    "# columns = []\n",
    "# for i in range(n_comp):\n",
    "#     columns.append('PC-'+str(i+1))\n",
    "# df = pd.DataFrame(pca.components_)\n",
    "# new_df = pd.DataFrame.transpose(df) \n",
    "# new_df.columns = columns\n",
    "# new_df"
   ]
  },
  {
   "cell_type": "code",
   "execution_count": 55,
   "metadata": {
    "scrolled": true
   },
   "outputs": [],
   "source": [
    "# print(new_df.max())\n",
    "# print(\"\\n\\n\\n\")\n",
    "# print(new_df.idxmax(axis = 0))\n",
    "# indices = new_df.idxmax(axis=0)"
   ]
  },
  {
   "cell_type": "code",
   "execution_count": 56,
   "metadata": {},
   "outputs": [],
   "source": [
    "# words = {}\n",
    "# for index in indices:\n",
    "#     for key, value in vocab.items():\n",
    "#         if value == index:\n",
    "#             words[index] = key\n",
    "\n",
    "# words"
   ]
  },
  {
   "cell_type": "code",
   "execution_count": null,
   "metadata": {},
   "outputs": [],
   "source": []
  },
  {
   "cell_type": "code",
   "execution_count": null,
   "metadata": {},
   "outputs": [],
   "source": []
  },
  {
   "cell_type": "code",
   "execution_count": null,
   "metadata": {},
   "outputs": [],
   "source": []
  },
  {
   "cell_type": "markdown",
   "metadata": {},
   "source": [
    "# Part 2 - Analyzing the EFT and ERT Cues, individual wise"
   ]
  },
  {
   "cell_type": "markdown",
   "metadata": {},
   "source": [
    "### Get the cues first"
   ]
  },
  {
   "cell_type": "code",
   "execution_count": 77,
   "metadata": {},
   "outputs": [
    {
     "data": {
      "text/plain": [
       "73"
      ]
     },
     "execution_count": 77,
     "metadata": {},
     "output_type": "execute_result"
    }
   ],
   "source": [
    "eft_cues, ert_cues = split_cues()\n",
    "len(ert_cues)"
   ]
  },
  {
   "cell_type": "markdown",
   "metadata": {},
   "source": [
    "### Next, clean the data"
   ]
  },
  {
   "cell_type": "code",
   "execution_count": 101,
   "metadata": {},
   "outputs": [],
   "source": [
    "X_eft, y_eft = clean_text(eft_cues)\n",
    "X_ert, y_ert = clean_text(ert_cues)"
   ]
  },
  {
   "cell_type": "code",
   "execution_count": 102,
   "metadata": {},
   "outputs": [],
   "source": [
    "# X_ert"
   ]
  },
  {
   "cell_type": "markdown",
   "metadata": {},
   "source": [
    "### Obtain the variances and words"
   ]
  },
  {
   "cell_type": "code",
   "execution_count": 103,
   "metadata": {},
   "outputs": [],
   "source": [
    "eft_result = find_importance(X_eft)\n",
    "ert_result = find_importance(X_ert)"
   ]
  },
  {
   "cell_type": "markdown",
   "metadata": {},
   "source": [
    "### Display the results"
   ]
  },
  {
   "cell_type": "code",
   "execution_count": 104,
   "metadata": {},
   "outputs": [
    {
     "data": {
      "text/html": [
       "<div>\n",
       "<style scoped>\n",
       "    .dataframe tbody tr th:only-of-type {\n",
       "        vertical-align: middle;\n",
       "    }\n",
       "\n",
       "    .dataframe tbody tr th {\n",
       "        vertical-align: top;\n",
       "    }\n",
       "\n",
       "    .dataframe thead th {\n",
       "        text-align: right;\n",
       "    }\n",
       "</style>\n",
       "<table border=\"1\" class=\"dataframe\">\n",
       "  <thead>\n",
       "    <tr style=\"text-align: right;\">\n",
       "      <th></th>\n",
       "      <th>Word</th>\n",
       "      <th>Variance</th>\n",
       "    </tr>\n",
       "  </thead>\n",
       "  <tbody>\n",
       "    <tr>\n",
       "      <td>0</td>\n",
       "      <td>time</td>\n",
       "      <td>0.057</td>\n",
       "    </tr>\n",
       "    <tr>\n",
       "      <td>1</td>\n",
       "      <td>front</td>\n",
       "      <td>0.044</td>\n",
       "    </tr>\n",
       "    <tr>\n",
       "      <td>2</td>\n",
       "      <td>budget</td>\n",
       "      <td>0.037</td>\n",
       "    </tr>\n",
       "    <tr>\n",
       "      <td>3</td>\n",
       "      <td>enjoy</td>\n",
       "      <td>0.036</td>\n",
       "    </tr>\n",
       "    <tr>\n",
       "      <td>4</td>\n",
       "      <td>see</td>\n",
       "      <td>0.035</td>\n",
       "    </tr>\n",
       "    <tr>\n",
       "      <td>5</td>\n",
       "      <td>lego</td>\n",
       "      <td>0.030</td>\n",
       "    </tr>\n",
       "    <tr>\n",
       "      <td>6</td>\n",
       "      <td>one</td>\n",
       "      <td>0.029</td>\n",
       "    </tr>\n",
       "    <tr>\n",
       "      <td>7</td>\n",
       "      <td>place</td>\n",
       "      <td>0.028</td>\n",
       "    </tr>\n",
       "    <tr>\n",
       "      <td>8</td>\n",
       "      <td>feel</td>\n",
       "      <td>0.027</td>\n",
       "    </tr>\n",
       "    <tr>\n",
       "      <td>9</td>\n",
       "      <td>movi</td>\n",
       "      <td>0.026</td>\n",
       "    </tr>\n",
       "  </tbody>\n",
       "</table>\n",
       "</div>"
      ],
      "text/plain": [
       "     Word  Variance\n",
       "0    time     0.057\n",
       "1   front     0.044\n",
       "2  budget     0.037\n",
       "3   enjoy     0.036\n",
       "4     see     0.035\n",
       "5    lego     0.030\n",
       "6     one     0.029\n",
       "7   place     0.028\n",
       "8    feel     0.027\n",
       "9    movi     0.026"
      ]
     },
     "execution_count": 104,
     "metadata": {},
     "output_type": "execute_result"
    }
   ],
   "source": [
    "eft_result"
   ]
  },
  {
   "cell_type": "code",
   "execution_count": 105,
   "metadata": {},
   "outputs": [
    {
     "data": {
      "text/html": [
       "<div>\n",
       "<style scoped>\n",
       "    .dataframe tbody tr th:only-of-type {\n",
       "        vertical-align: middle;\n",
       "    }\n",
       "\n",
       "    .dataframe tbody tr th {\n",
       "        vertical-align: top;\n",
       "    }\n",
       "\n",
       "    .dataframe thead th {\n",
       "        text-align: right;\n",
       "    }\n",
       "</style>\n",
       "<table border=\"1\" class=\"dataframe\">\n",
       "  <thead>\n",
       "    <tr style=\"text-align: right;\">\n",
       "      <th></th>\n",
       "      <th>Word</th>\n",
       "      <th>Variance</th>\n",
       "    </tr>\n",
       "  </thead>\n",
       "  <tbody>\n",
       "    <tr>\n",
       "      <td>0</td>\n",
       "      <td>watch</td>\n",
       "      <td>0.063</td>\n",
       "    </tr>\n",
       "    <tr>\n",
       "      <td>1</td>\n",
       "      <td>read</td>\n",
       "      <td>0.059</td>\n",
       "    </tr>\n",
       "    <tr>\n",
       "      <td>2</td>\n",
       "      <td>lobster</td>\n",
       "      <td>0.055</td>\n",
       "    </tr>\n",
       "    <tr>\n",
       "      <td>3</td>\n",
       "      <td>work</td>\n",
       "      <td>0.049</td>\n",
       "    </tr>\n",
       "    <tr>\n",
       "      <td>4</td>\n",
       "      <td>realli</td>\n",
       "      <td>0.037</td>\n",
       "    </tr>\n",
       "    <tr>\n",
       "      <td>5</td>\n",
       "      <td>friend</td>\n",
       "      <td>0.034</td>\n",
       "    </tr>\n",
       "    <tr>\n",
       "      <td>6</td>\n",
       "      <td>dog</td>\n",
       "      <td>0.033</td>\n",
       "    </tr>\n",
       "    <tr>\n",
       "      <td>7</td>\n",
       "      <td>play</td>\n",
       "      <td>0.032</td>\n",
       "    </tr>\n",
       "    <tr>\n",
       "      <td>8</td>\n",
       "      <td>enjoy</td>\n",
       "      <td>0.028</td>\n",
       "    </tr>\n",
       "  </tbody>\n",
       "</table>\n",
       "</div>"
      ],
      "text/plain": [
       "      Word  Variance\n",
       "0    watch     0.063\n",
       "1     read     0.059\n",
       "2  lobster     0.055\n",
       "3     work     0.049\n",
       "4   realli     0.037\n",
       "5   friend     0.034\n",
       "6      dog     0.033\n",
       "7     play     0.032\n",
       "8    enjoy     0.028"
      ]
     },
     "execution_count": 105,
     "metadata": {},
     "output_type": "execute_result"
    }
   ],
   "source": [
    "ert_result"
   ]
  },
  {
   "cell_type": "code",
   "execution_count": 108,
   "metadata": {},
   "outputs": [],
   "source": [
    "vocab_eft, X = vectorize(X_eft)\n",
    "X, var_eft, important_eft = find_PCA(X, vocab_eft)\n",
    "X = np.absolute(X)"
   ]
  },
  {
   "cell_type": "code",
   "execution_count": 109,
   "metadata": {},
   "outputs": [],
   "source": [
    "from sklearn.model_selection import train_test_split\n",
    "X_train, X_test, y_train, y_test = train_test_split(X, y_eft, test_size = 0.2, random_state = 0)\n",
    "\n"
   ]
  },
  {
   "cell_type": "code",
   "execution_count": 110,
   "metadata": {},
   "outputs": [
    {
     "data": {
      "text/plain": [
       "LinearRegression(copy_X=True, fit_intercept=True, n_jobs=None, normalize=False)"
      ]
     },
     "execution_count": 110,
     "metadata": {},
     "output_type": "execute_result"
    }
   ],
   "source": [
    "from sklearn.linear_model import LinearRegression\n",
    "regressor = LinearRegression()\n",
    "regressor.fit(X_train, y_train)"
   ]
  },
  {
   "cell_type": "code",
   "execution_count": 111,
   "metadata": {},
   "outputs": [
    {
     "data": {
      "text/plain": [
       "-0.13804121506330413"
      ]
     },
     "execution_count": 111,
     "metadata": {},
     "output_type": "execute_result"
    }
   ],
   "source": [
    "y_pred = regressor.predict(X_test)\n",
    "regressor.score(X_test, y_test)"
   ]
  },
  {
   "cell_type": "code",
   "execution_count": 220,
   "metadata": {},
   "outputs": [],
   "source": [
    "import statsmodels.api as sm\n",
    "def backwardElimination(x, y, sl):\n",
    "    numVars = len(x[0])\n",
    "    for i in range(0, numVars):\n",
    "        regressor_OLS = sm.OLS(y, x).fit()\n",
    "        maxVar = max(regressor_OLS.pvalues).astype(float)\n",
    "        if maxVar > sl:\n",
    "            for j in range(0, numVars - i):\n",
    "                if (regressor_OLS.pvalues[j].astype(float) == maxVar):\n",
    "                    x = np.delete(x, j, 1)\n",
    "    print(regressor_OLS.summary())\n",
    "    return x"
   ]
  },
  {
   "cell_type": "code",
   "execution_count": 221,
   "metadata": {},
   "outputs": [
    {
     "data": {
      "text/html": [
       "<table class=\"simpletable\">\n",
       "<caption>OLS Regression Results</caption>\n",
       "<tr>\n",
       "  <th>Dep. Variable:</th>            <td>y</td>        <th>  R-squared:         </th> <td>   0.167</td>\n",
       "</tr>\n",
       "<tr>\n",
       "  <th>Model:</th>                   <td>OLS</td>       <th>  Adj. R-squared:    </th> <td>   0.032</td>\n",
       "</tr>\n",
       "<tr>\n",
       "  <th>Method:</th>             <td>Least Squares</td>  <th>  F-statistic:       </th> <td>   1.241</td>\n",
       "</tr>\n",
       "<tr>\n",
       "  <th>Date:</th>             <td>Sat, 14 Sep 2019</td> <th>  Prob (F-statistic):</th>  <td> 0.283</td> \n",
       "</tr>\n",
       "<tr>\n",
       "  <th>Time:</th>                 <td>22:11:53</td>     <th>  Log-Likelihood:    </th> <td> -340.46</td>\n",
       "</tr>\n",
       "<tr>\n",
       "  <th>No. Observations:</th>      <td>    73</td>      <th>  AIC:               </th> <td>   702.9</td>\n",
       "</tr>\n",
       "<tr>\n",
       "  <th>Df Residuals:</th>          <td>    62</td>      <th>  BIC:               </th> <td>   728.1</td>\n",
       "</tr>\n",
       "<tr>\n",
       "  <th>Df Model:</th>              <td>    10</td>      <th>                     </th>     <td> </td>   \n",
       "</tr>\n",
       "<tr>\n",
       "  <th>Covariance Type:</th>      <td>nonrobust</td>    <th>                     </th>     <td> </td>   \n",
       "</tr>\n",
       "</table>\n",
       "<table class=\"simpletable\">\n",
       "<tr>\n",
       "    <td></td>       <th>coef</th>     <th>std err</th>      <th>t</th>      <th>P>|t|</th>  <th>[0.025</th>    <th>0.975]</th>  \n",
       "</tr>\n",
       "<tr>\n",
       "  <th>const</th> <td>   74.7292</td> <td>    5.974</td> <td>   12.509</td> <td> 0.000</td> <td>   62.787</td> <td>   86.671</td>\n",
       "</tr>\n",
       "<tr>\n",
       "  <th>x1</th>    <td>    6.0342</td> <td>    2.969</td> <td>    2.033</td> <td> 0.046</td> <td>    0.100</td> <td>   11.968</td>\n",
       "</tr>\n",
       "<tr>\n",
       "  <th>x2</th>    <td>   -2.7122</td> <td>    3.107</td> <td>   -0.873</td> <td> 0.386</td> <td>   -8.924</td> <td>    3.499</td>\n",
       "</tr>\n",
       "<tr>\n",
       "  <th>x3</th>    <td>   -3.9359</td> <td>    4.683</td> <td>   -0.840</td> <td> 0.404</td> <td>  -13.297</td> <td>    5.425</td>\n",
       "</tr>\n",
       "<tr>\n",
       "  <th>x4</th>    <td>  -11.2941</td> <td>    5.111</td> <td>   -2.210</td> <td> 0.031</td> <td>  -21.510</td> <td>   -1.078</td>\n",
       "</tr>\n",
       "<tr>\n",
       "  <th>x5</th>    <td>  -11.9438</td> <td>    6.755</td> <td>   -1.768</td> <td> 0.082</td> <td>  -25.448</td> <td>    1.560</td>\n",
       "</tr>\n",
       "<tr>\n",
       "  <th>x6</th>    <td>   14.4459</td> <td>    8.108</td> <td>    1.782</td> <td> 0.080</td> <td>   -1.762</td> <td>   30.654</td>\n",
       "</tr>\n",
       "<tr>\n",
       "  <th>x7</th>    <td>   -6.7197</td> <td>    5.605</td> <td>   -1.199</td> <td> 0.235</td> <td>  -17.924</td> <td>    4.485</td>\n",
       "</tr>\n",
       "<tr>\n",
       "  <th>x8</th>    <td>   17.1503</td> <td>    7.427</td> <td>    2.309</td> <td> 0.024</td> <td>    2.304</td> <td>   31.996</td>\n",
       "</tr>\n",
       "<tr>\n",
       "  <th>x9</th>    <td>   -2.2490</td> <td>    6.314</td> <td>   -0.356</td> <td> 0.723</td> <td>  -14.870</td> <td>   10.372</td>\n",
       "</tr>\n",
       "<tr>\n",
       "  <th>x10</th>   <td>   -2.2556</td> <td>    5.105</td> <td>   -0.442</td> <td> 0.660</td> <td>  -12.460</td> <td>    7.949</td>\n",
       "</tr>\n",
       "</table>\n",
       "<table class=\"simpletable\">\n",
       "<tr>\n",
       "  <th>Omnibus:</th>       <td> 6.294</td> <th>  Durbin-Watson:     </th> <td>   1.711</td>\n",
       "</tr>\n",
       "<tr>\n",
       "  <th>Prob(Omnibus):</th> <td> 0.043</td> <th>  Jarque-Bera (JB):  </th> <td>   6.256</td>\n",
       "</tr>\n",
       "<tr>\n",
       "  <th>Skew:</th>          <td>-0.673</td> <th>  Prob(JB):          </th> <td>  0.0438</td>\n",
       "</tr>\n",
       "<tr>\n",
       "  <th>Kurtosis:</th>      <td> 2.503</td> <th>  Cond. No.          </th> <td>    8.87</td>\n",
       "</tr>\n",
       "</table><br/><br/>Warnings:<br/>[1] Standard Errors assume that the covariance matrix of the errors is correctly specified."
      ],
      "text/plain": [
       "<class 'statsmodels.iolib.summary.Summary'>\n",
       "\"\"\"\n",
       "                            OLS Regression Results                            \n",
       "==============================================================================\n",
       "Dep. Variable:                      y   R-squared:                       0.167\n",
       "Model:                            OLS   Adj. R-squared:                  0.032\n",
       "Method:                 Least Squares   F-statistic:                     1.241\n",
       "Date:                Sat, 14 Sep 2019   Prob (F-statistic):              0.283\n",
       "Time:                        22:11:53   Log-Likelihood:                -340.46\n",
       "No. Observations:                  73   AIC:                             702.9\n",
       "Df Residuals:                      62   BIC:                             728.1\n",
       "Df Model:                          10                                         \n",
       "Covariance Type:            nonrobust                                         \n",
       "==============================================================================\n",
       "                 coef    std err          t      P>|t|      [0.025      0.975]\n",
       "------------------------------------------------------------------------------\n",
       "const         74.7292      5.974     12.509      0.000      62.787      86.671\n",
       "x1             6.0342      2.969      2.033      0.046       0.100      11.968\n",
       "x2            -2.7122      3.107     -0.873      0.386      -8.924       3.499\n",
       "x3            -3.9359      4.683     -0.840      0.404     -13.297       5.425\n",
       "x4           -11.2941      5.111     -2.210      0.031     -21.510      -1.078\n",
       "x5           -11.9438      6.755     -1.768      0.082     -25.448       1.560\n",
       "x6            14.4459      8.108      1.782      0.080      -1.762      30.654\n",
       "x7            -6.7197      5.605     -1.199      0.235     -17.924       4.485\n",
       "x8            17.1503      7.427      2.309      0.024       2.304      31.996\n",
       "x9            -2.2490      6.314     -0.356      0.723     -14.870      10.372\n",
       "x10           -2.2556      5.105     -0.442      0.660     -12.460       7.949\n",
       "==============================================================================\n",
       "Omnibus:                        6.294   Durbin-Watson:                   1.711\n",
       "Prob(Omnibus):                  0.043   Jarque-Bera (JB):                6.256\n",
       "Skew:                          -0.673   Prob(JB):                       0.0438\n",
       "Kurtosis:                       2.503   Cond. No.                         8.87\n",
       "==============================================================================\n",
       "\n",
       "Warnings:\n",
       "[1] Standard Errors assume that the covariance matrix of the errors is correctly specified.\n",
       "\"\"\""
      ]
     },
     "execution_count": 221,
     "metadata": {},
     "output_type": "execute_result"
    }
   ],
   "source": [
    "# import statsmodels.api as sm\n",
    "X = np.append(arr = np.ones((len(X_30_eft), 1)).astype(int), values = X_30_eft, axis = 1)\n",
    "X_opt = X[:, :]\n",
    "regressor_OLS = sm.OLS(endog = y_30_eft, exog = X_opt).fit()\n",
    "regressor_OLS.summary()\n",
    "# SL = 0.05\n",
    "# X_Modeled = backwardElimination(X_opt, y_30_eft, SL)\n",
    "# X_Modeled"
   ]
  },
  {
   "cell_type": "code",
   "execution_count": null,
   "metadata": {},
   "outputs": [],
   "source": []
  }
 ],
 "metadata": {
  "kernelspec": {
   "display_name": "Python 3",
   "language": "python",
   "name": "python3"
  },
  "language_info": {
   "codemirror_mode": {
    "name": "ipython",
    "version": 3
   },
   "file_extension": ".py",
   "mimetype": "text/x-python",
   "name": "python",
   "nbconvert_exporter": "python",
   "pygments_lexer": "ipython3",
   "version": "3.6.7"
  }
 },
 "nbformat": 4,
 "nbformat_minor": 2
}
