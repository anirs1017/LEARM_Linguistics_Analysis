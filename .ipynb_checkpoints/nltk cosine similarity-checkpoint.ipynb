{
 "cells": [
  {
   "cell_type": "code",
   "execution_count": 2,
   "metadata": {},
   "outputs": [],
   "source": [
    "import nltk\n",
    "from nltk.corpus import stopwords\n",
    "from nltk.tokenize import word_tokenize\n",
    "import numpy as np\n",
    "import pandas as pd"
   ]
  },
  {
   "cell_type": "code",
   "execution_count": 3,
   "metadata": {},
   "outputs": [],
   "source": [
    "data = pd.read_excel(\"EFTSTUDY16.xlsx\", sheet_name='Sheet1')"
   ]
  },
  {
   "cell_type": "code",
   "execution_count": 4,
   "metadata": {},
   "outputs": [
    {
     "data": {
      "text/plain": [
       "Index(['ID's', 'EFT/ERT', 'AUC EFT/ERT', 'BAUC', 'DELAY', 'IP', 'IP value',\n",
       "       'cue original', 'cue_spellcheck'],\n",
       "      dtype='object')"
      ]
     },
     "execution_count": 4,
     "metadata": {},
     "output_type": "execute_result"
    }
   ],
   "source": [
    "data.columns"
   ]
  },
  {
   "cell_type": "code",
   "execution_count": 5,
   "metadata": {},
   "outputs": [],
   "source": [
    "IP_values = pd.DataFrame(data['IP value'])\n",
    "all_cues = pd.DataFrame(data['cue_spellcheck'])\n",
    "category = pd.DataFrame(data['EFT/ERT'])"
   ]
  },
  {
   "cell_type": "code",
   "execution_count": 6,
   "metadata": {},
   "outputs": [],
   "source": [
    "eft_data = []\n",
    "ert_data = []\n"
   ]
  },
  {
   "cell_type": "code",
   "execution_count": 7,
   "metadata": {},
   "outputs": [],
   "source": [
    "for i in category.index:\n",
    "    if category['EFT/ERT'][i] == \"EFT\":\n",
    "        eft_data.append([all_cues['cue_spellcheck'][i], IP_values['IP value'][i]])\n",
    "    else:\n",
    "        ert_data.append([all_cues['cue_spellcheck'][i], IP_values['IP value'][i]])"
   ]
  },
  {
   "cell_type": "code",
   "execution_count": 8,
   "metadata": {},
   "outputs": [
    {
     "data": {
      "text/plain": [
       "(219, 228)"
      ]
     },
     "execution_count": 8,
     "metadata": {},
     "output_type": "execute_result"
    }
   ],
   "source": [
    "len(eft_data), len(ert_data)"
   ]
  },
  {
   "cell_type": "code",
   "execution_count": 9,
   "metadata": {},
   "outputs": [],
   "source": [
    "def preprocess(individual_data):\n",
    "    tokens = []\n",
    "    for item in individual_data:\n",
    "        temp = word_tokenize(item)\n",
    "        for word in temp:\n",
    "            tokens.append(word)\n",
    "        \n",
    "    words = [w.lower() for w in tokens]\n",
    "    \n",
    "    porter = nltk.PorterStemmer()\n",
    "    stemmed_tokens = [porter.stem(t) for t in words]\n",
    "    \n",
    "    #Removing stop words\n",
    "    stop_words = set(stopwords.words('english'))\n",
    "    filtered_tokens = [w for w in stemmed_tokens if not w in stop_words]\n",
    "    \n",
    "    #count words\n",
    "    count = nltk.defaultdict(int)\n",
    "    for word in filtered_tokens:\n",
    "        count[word] += 1\n",
    "    \n",
    "    return count"
   ]
  },
  {
   "cell_type": "code",
   "execution_count": 10,
   "metadata": {},
   "outputs": [],
   "source": [
    "def cos_sim(a, b):\n",
    "    dot_product = np.dot(a, b)\n",
    "    norm_a = np.linalg.norm(a)\n",
    "    norm_b = np.linalg.norm(b)\n",
    "    \n",
    "    return dot_product/(norm_a * norm_b)"
   ]
  },
  {
   "cell_type": "code",
   "execution_count": 20,
   "metadata": {},
   "outputs": [],
   "source": [
    "def getSimilarity(dict1, dict2):\n",
    "    all_words_list = []\n",
    "    for key in dict1:\n",
    "        all_words_list.append(key)\n",
    "    for key in dict2:\n",
    "        all_words_list.append(key)\n",
    "    \n",
    "    \n",
    "    v1 = np.zeros(len(all_words_list), dtype=np.int)\n",
    "    v2 = np.zeros(len(all_words_list), dtype=np.int)\n",
    "    \n",
    "    i=0\n",
    "    \n",
    "    for (key) in all_words_list:\n",
    "        v1[i] = dict1.get(key, 0)\n",
    "        v2[i] = dict2.get(key, 0)\n",
    "        i = i+1\n",
    "    \n",
    "#     print(v1, \"\\n\\n\\n\", v2)\n",
    "    return cos_sim(v1, v2)"
   ]
  },
  {
   "cell_type": "code",
   "execution_count": 23,
   "metadata": {},
   "outputs": [
    {
     "name": "stdout",
     "output_type": "stream",
     "text": [
      "0.7320654489029711 0.961477958664592 \n",
      "\n",
      "\n",
      "0.5389485627682215 0.843258436122533 \n",
      "\n",
      "\n",
      "0.2169033791350711 0.8474210602882235 \n",
      "\n",
      "\n",
      "0.28072655189149287 0.9967600557071877 \n",
      "\n",
      "\n",
      "0.7201516119631453 0.9475557965597522 \n",
      "\n",
      "\n",
      "0.6694000304026254 0.6501795057173233 \n",
      "\n",
      "\n",
      "0.5328653210997697 0.9556377987087168 \n",
      "\n",
      "\n",
      "0.3893661821726164 0.8367714208646314 \n",
      "\n",
      "\n",
      "0.3700919289219636 0.8586119247748355 \n",
      "\n",
      "\n",
      "0.6196834557538381 0.9540113953516025 \n",
      "\n",
      "\n",
      "0.6626516174931566 0.9478012804403075 \n",
      "\n",
      "\n",
      "0.6945370831998118 0.8574455208722735 \n",
      "\n",
      "\n",
      "0.6591078530690873 0.865606073316307 \n",
      "\n",
      "\n",
      "0.4244887253698285 0.893261999923505 \n",
      "\n",
      "\n",
      "0.5535340874468364 0.9808393721203469 \n",
      "\n",
      "\n",
      "0.6719944224097083 0.8773287975215743 \n",
      "\n",
      "\n",
      "0.5806073971876431 0.8523734421066558 \n",
      "\n",
      "\n",
      "0.19743348163446187 0.994803831137775 \n",
      "\n",
      "\n",
      "0.2343718211502857 0.9999923249670243 \n",
      "\n",
      "\n",
      "0.33348105827675406 0.9033442856673265 \n",
      "\n",
      "\n",
      "0.5346752700174289 0.9486612027854415 \n",
      "\n",
      "\n",
      "0.566646199504299 0.7124783878237405 \n",
      "\n",
      "\n",
      "0.22892103967034522 0.889599803863362 \n",
      "\n",
      "\n",
      "0.2617892890103688 0.9078646092777198 \n",
      "\n",
      "\n",
      "0.5329193371241866 0.837645713292229 \n",
      "\n",
      "\n",
      "0.36006916170242137 0.9999703954043183 \n",
      "\n",
      "\n",
      "0.2508232763513611 0.9424419411209046 \n",
      "\n",
      "\n",
      "0.3407690885788361 0.8175673396358186 \n",
      "\n",
      "\n",
      "0.3366615792029554 0.9435930182891498 \n",
      "\n",
      "\n",
      "0.3528770179939638 0.8632140519436704 \n",
      "\n",
      "\n",
      "0.695548988860193 0.8869170444394191 \n",
      "\n",
      "\n",
      "0.7056690042242036 0.9923307106552149 \n",
      "\n",
      "\n",
      "0.3606666570325325 0.907035682105274 \n",
      "\n",
      "\n",
      "0.3203362783890827 0.9595646177112648 \n",
      "\n",
      "\n",
      "0.2799603923636052 0.9606848728779513 \n",
      "\n",
      "\n",
      "0.6897036047718966 0.98491000061683 \n",
      "\n",
      "\n",
      "0.5538184402101798 0.9809941910751949 \n",
      "\n",
      "\n",
      "0.585929195152656 0.8434365391705712 \n",
      "\n",
      "\n",
      "0.32406591044575245 0.9860677666440936 \n",
      "\n",
      "\n",
      "0.3634998378708471 0.9204525992090739 \n",
      "\n",
      "\n",
      "0.6425008314918322 0.834536969754864 \n",
      "\n",
      "\n",
      "0.5176770922171134 0.9856062486884892 \n",
      "\n",
      "\n",
      "0.5508685489382382 0.9991073289663408 \n",
      "\n",
      "\n",
      "0.6861969376781175 0.8362714203353033 \n",
      "\n",
      "\n",
      "0.6494197246097729 0.938044583273329 \n",
      "\n",
      "\n",
      "0.32879989643373747 0.9961208134181733 \n",
      "\n",
      "\n",
      "0.23755644748341737 0.9767484981681794 \n",
      "\n",
      "\n",
      "0.3956859684125018 0.7007504925405804 \n",
      "\n",
      "\n",
      "0.28822247764632053 0.9996219566213068 \n",
      "\n",
      "\n",
      "0.6700371852330218 0.954125209125761 \n",
      "\n",
      "\n",
      "0.7134626708617581 0.8798912831929036 \n",
      "\n",
      "\n",
      "0.6989729466167872 0.7576405662446831 \n",
      "\n",
      "\n",
      "0.5735501252574423 0.9709611055154163 \n",
      "\n",
      "\n",
      "0.6200459906247807 0.7231515943154139 \n",
      "\n",
      "\n",
      "0.6940482879728191 0.9709723202527419 \n",
      "\n",
      "\n",
      "0.6480625631502701 0.9429620189217969 \n",
      "\n",
      "\n",
      "0.30326567126380344 0.9103492931751987 \n",
      "\n",
      "\n",
      "0.6174437245153284 0.9589504618651854 \n",
      "\n",
      "\n",
      "0.7012442975435164 0.9415299455286774 \n",
      "\n",
      "\n",
      "0.5660269979039777 0.906379629397974 \n",
      "\n",
      "\n",
      "0.6828728204401857 0.9387138641290967 \n",
      "\n",
      "\n",
      "0.30301441719227845 0.9673457888012564 \n",
      "\n",
      "\n",
      "0.6482311979619274 0.9969708420918254 \n",
      "\n",
      "\n",
      "0.29451855965705176 0.8185182322028915 \n",
      "\n",
      "\n",
      "0.6509587985275934 0.8121837533584814 \n",
      "\n",
      "\n",
      "0.3514004057079753 0.9397172514874612 \n",
      "\n",
      "\n",
      "0.4853880537318894 0.9965556235952391 \n",
      "\n",
      "\n",
      "0.48277487819932285 0.8814954667776945 \n",
      "\n",
      "\n",
      "0.5110409015094486 0.9899632896405646 \n",
      "\n",
      "\n",
      "0.7369492253481373 0.9863164764922073 \n",
      "\n",
      "\n",
      "0.24948554765574862 0.9024026359900067 \n",
      "\n",
      "\n",
      "0.3455365525229407 0.9763589001529616 \n",
      "\n",
      "\n",
      "0.6457914815984294 0.9201023550197959 \n",
      "\n",
      "\n"
     ]
    }
   ],
   "source": [
    "similarity_index = []\n",
    "\n",
    "for i in range(0, len(eft_data), i+3):\n",
    "    ind_eft_data = []\n",
    "    ind_ert_data = []\n",
    "    IP_eft_values = []\n",
    "    IP_ert_values = []\n",
    "    \n",
    "    for j in range(3):\n",
    "        ind_eft_data.append(eft_data[i+j][0])\n",
    "        ind_ert_data.append(ert_data[i+j][0])\n",
    "        IP_eft_values.append(eft_data[i+j][1])\n",
    "        IP_ert_values.append(ert_data[i+j][1])\n",
    "\n",
    "    cue_eft_dict = preprocess(ind_eft_data)\n",
    "    cue_ert_dict = preprocess(ind_ert_data)\n",
    "    \n",
    "\n",
    "#     print(\"EFT:  \\n\",IP_eft_values, \"\\n\\n\\n\")\n",
    "#     print(\"ERT: \\n\", IP_ert_values, \"\\n\\n\\n\")\n",
    "    \n",
    "    cue_similarity = getSimilarity(cue_eft_dict, cue_ert_dict)\n",
    "    IP_similarity = cos_sim(IP_eft_values, IP_ert_values)\n",
    "    print(cue_similarity, IP_similarity, \"\\n\\n\")\n",
    "    similarity_index.append(list([i, cue_similarity, IP_similarity]))"
   ]
  },
  {
   "cell_type": "code",
   "execution_count": 24,
   "metadata": {},
   "outputs": [
    {
     "data": {
      "text/plain": [
       "(73, 3)"
      ]
     },
     "execution_count": 24,
     "metadata": {},
     "output_type": "execute_result"
    }
   ],
   "source": [
    "similarity_index = np.array(similarity_index, dtype=np.float32)\n",
    "similarity_index.shape"
   ]
  },
  {
   "cell_type": "code",
   "execution_count": 25,
   "metadata": {},
   "outputs": [
    {
     "name": "stdout",
     "output_type": "stream",
     "text": [
      "49.22 49.22 11.72 \n",
      "\n",
      " 49.22 46.1 32.04\n"
     ]
    }
   ],
   "source": [
    "print(eft_data[0][1],eft_data[1][1],eft_data[2][1], \"\\n\\n\", ert_data[0][1], ert_data[1][1], ert_data[2][1])"
   ]
  },
  {
   "cell_type": "code",
   "execution_count": 26,
   "metadata": {},
   "outputs": [],
   "source": [
    "df = pd.DataFrame(similarity_index)"
   ]
  },
  {
   "cell_type": "code",
   "execution_count": 27,
   "metadata": {
    "scrolled": true
   },
   "outputs": [
    {
     "data": {
      "text/html": [
       "<div>\n",
       "<style scoped>\n",
       "    .dataframe tbody tr th:only-of-type {\n",
       "        vertical-align: middle;\n",
       "    }\n",
       "\n",
       "    .dataframe tbody tr th {\n",
       "        vertical-align: top;\n",
       "    }\n",
       "\n",
       "    .dataframe thead th {\n",
       "        text-align: right;\n",
       "    }\n",
       "</style>\n",
       "<table border=\"1\" class=\"dataframe\">\n",
       "  <thead>\n",
       "    <tr style=\"text-align: right;\">\n",
       "      <th></th>\n",
       "      <th>Individual S/No</th>\n",
       "      <th>EFT-ERT Cosine Similarity</th>\n",
       "      <th>IP Values Cosine Similarity</th>\n",
       "    </tr>\n",
       "  </thead>\n",
       "  <tbody>\n",
       "    <tr>\n",
       "      <td>0</td>\n",
       "      <td>0.0</td>\n",
       "      <td>0.732065</td>\n",
       "      <td>0.961478</td>\n",
       "    </tr>\n",
       "    <tr>\n",
       "      <td>1</td>\n",
       "      <td>3.0</td>\n",
       "      <td>0.538949</td>\n",
       "      <td>0.843258</td>\n",
       "    </tr>\n",
       "    <tr>\n",
       "      <td>2</td>\n",
       "      <td>6.0</td>\n",
       "      <td>0.216903</td>\n",
       "      <td>0.847421</td>\n",
       "    </tr>\n",
       "    <tr>\n",
       "      <td>3</td>\n",
       "      <td>9.0</td>\n",
       "      <td>0.280727</td>\n",
       "      <td>0.996760</td>\n",
       "    </tr>\n",
       "    <tr>\n",
       "      <td>4</td>\n",
       "      <td>12.0</td>\n",
       "      <td>0.720152</td>\n",
       "      <td>0.947556</td>\n",
       "    </tr>\n",
       "    <tr>\n",
       "      <td>...</td>\n",
       "      <td>...</td>\n",
       "      <td>...</td>\n",
       "      <td>...</td>\n",
       "    </tr>\n",
       "    <tr>\n",
       "      <td>68</td>\n",
       "      <td>204.0</td>\n",
       "      <td>0.511041</td>\n",
       "      <td>0.989963</td>\n",
       "    </tr>\n",
       "    <tr>\n",
       "      <td>69</td>\n",
       "      <td>207.0</td>\n",
       "      <td>0.736949</td>\n",
       "      <td>0.986317</td>\n",
       "    </tr>\n",
       "    <tr>\n",
       "      <td>70</td>\n",
       "      <td>210.0</td>\n",
       "      <td>0.249486</td>\n",
       "      <td>0.902403</td>\n",
       "    </tr>\n",
       "    <tr>\n",
       "      <td>71</td>\n",
       "      <td>213.0</td>\n",
       "      <td>0.345537</td>\n",
       "      <td>0.976359</td>\n",
       "    </tr>\n",
       "    <tr>\n",
       "      <td>72</td>\n",
       "      <td>216.0</td>\n",
       "      <td>0.645791</td>\n",
       "      <td>0.920102</td>\n",
       "    </tr>\n",
       "  </tbody>\n",
       "</table>\n",
       "<p>73 rows × 3 columns</p>\n",
       "</div>"
      ],
      "text/plain": [
       "    Individual S/No  EFT-ERT Cosine Similarity  IP Values Cosine Similarity\n",
       "0               0.0                   0.732065                     0.961478\n",
       "1               3.0                   0.538949                     0.843258\n",
       "2               6.0                   0.216903                     0.847421\n",
       "3               9.0                   0.280727                     0.996760\n",
       "4              12.0                   0.720152                     0.947556\n",
       "..              ...                        ...                          ...\n",
       "68            204.0                   0.511041                     0.989963\n",
       "69            207.0                   0.736949                     0.986317\n",
       "70            210.0                   0.249486                     0.902403\n",
       "71            213.0                   0.345537                     0.976359\n",
       "72            216.0                   0.645791                     0.920102\n",
       "\n",
       "[73 rows x 3 columns]"
      ]
     },
     "execution_count": 27,
     "metadata": {},
     "output_type": "execute_result"
    }
   ],
   "source": [
    "df.columns = ['Individual S/No', 'EFT-ERT Cosine Similarity', 'IP Values Cosine Similarity']\n",
    "df"
   ]
  },
  {
   "cell_type": "code",
   "execution_count": 28,
   "metadata": {},
   "outputs": [
    {
     "name": "stdout",
     "output_type": "stream",
     "text": [
      "Max values: \n",
      "\n",
      "Individual S/No                72\n",
      "EFT-ERT Cosine Similarity      69\n",
      "IP Values Cosine Similarity    18\n",
      "dtype: int64 \n",
      "\n",
      " Individual S/No                216.000000\n",
      "EFT-ERT Cosine Similarity        0.736949\n",
      "IP Values Cosine Similarity      0.999992\n",
      "dtype: float32\n"
     ]
    }
   ],
   "source": [
    "print (\"Max values: \\n\")\n",
    "print(df.idxmax(axis=0), \"\\n\\n\", df.max(axis=0))"
   ]
  },
  {
   "cell_type": "code",
   "execution_count": 32,
   "metadata": {},
   "outputs": [],
   "source": [
    "eft_cues = []\n",
    "IP_eft_all = []\n",
    "ert_cues = []\n",
    "IP_ert_all = []\n",
    "\n",
    "for i in range(len(eft_data)):\n",
    "    eft_cues.append(eft_data[i][0])\n",
    "    IP_eft_all.append(eft_data[i][1])\n",
    "    ert_cues.append(ert_data[i][0])\n",
    "    IP_ert_all.append(ert_data[i][1])"
   ]
  },
  {
   "cell_type": "code",
   "execution_count": 35,
   "metadata": {},
   "outputs": [],
   "source": [
    "all_eft_dict = preprocess(eft_cues)\n",
    "all_ert_dict = preprocess(ert_cues)\n",
    "\n",
    "similar = getSimilarity(all_eft_dict, all_ert_dict)\n",
    "IP_sim = cos_sim(IP_eft_all, IP_ert_all)"
   ]
  },
  {
   "cell_type": "code",
   "execution_count": 38,
   "metadata": {},
   "outputs": [
    {
     "name": "stdout",
     "output_type": "stream",
     "text": [
      "0.696   0.816\n"
     ]
    }
   ],
   "source": [
    "print(\"{0:.3f}\" .format(similar), \"  {0:.3f}\" .format(IP_sim))"
   ]
  },
  {
   "cell_type": "code",
   "execution_count": null,
   "metadata": {},
   "outputs": [],
   "source": []
  }
 ],
 "metadata": {
  "kernelspec": {
   "display_name": "Python 3",
   "language": "python",
   "name": "python3"
  },
  "language_info": {
   "codemirror_mode": {
    "name": "ipython",
    "version": 3
   },
   "file_extension": ".py",
   "mimetype": "text/x-python",
   "name": "python",
   "nbconvert_exporter": "python",
   "pygments_lexer": "ipython3",
   "version": "3.6.7"
  }
 },
 "nbformat": 4,
 "nbformat_minor": 2
}
